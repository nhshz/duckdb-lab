{
 "cells": [
  {
   "cell_type": "markdown",
   "id": "dd8a2e44",
   "metadata": {},
   "source": [
    "# Amazon Reviews of Digital Video Downloads"
   ]
  },
  {
   "cell_type": "code",
   "execution_count": 1,
   "id": "2b91d33b",
   "metadata": {
    "collapsed": false,
    "jupyter": {
     "outputs_hidden": false
    },
    "pycharm": {
     "name": "#%%\n"
    }
   },
   "outputs": [],
   "source": [
    "import pandas as pd"
   ]
  },
  {
   "cell_type": "code",
   "execution_count": 2,
   "id": "04175e7a",
   "metadata": {
    "collapsed": false,
    "jupyter": {
     "outputs_hidden": false
    },
    "pycharm": {
     "name": "#%%\n"
    }
   },
   "outputs": [
    {
     "data": {
      "text/html": [
       "<div>\n",
       "<style scoped>\n",
       "    .dataframe tbody tr th:only-of-type {\n",
       "        vertical-align: middle;\n",
       "    }\n",
       "\n",
       "    .dataframe tbody tr th {\n",
       "        vertical-align: top;\n",
       "    }\n",
       "\n",
       "    .dataframe thead th {\n",
       "        text-align: right;\n",
       "    }\n",
       "</style>\n",
       "<table border=\"1\" class=\"dataframe\">\n",
       "  <thead>\n",
       "    <tr style=\"text-align: right;\">\n",
       "      <th></th>\n",
       "      <th>marketplace</th>\n",
       "      <th>customer_id</th>\n",
       "      <th>review_id</th>\n",
       "      <th>product_id</th>\n",
       "      <th>product_parent</th>\n",
       "      <th>product_title</th>\n",
       "      <th>star_rating</th>\n",
       "      <th>helpful_votes</th>\n",
       "      <th>total_votes</th>\n",
       "      <th>vine</th>\n",
       "      <th>verified_purchase</th>\n",
       "      <th>review_headline</th>\n",
       "      <th>review_body</th>\n",
       "      <th>review_date</th>\n",
       "      <th>year</th>\n",
       "      <th>product_category</th>\n",
       "    </tr>\n",
       "  </thead>\n",
       "  <tbody>\n",
       "    <tr>\n",
       "      <th>0</th>\n",
       "      <td>US</td>\n",
       "      <td>42778291</td>\n",
       "      <td>R36DE7C83302X</td>\n",
       "      <td>B0034GY4L8</td>\n",
       "      <td>652273641</td>\n",
       "      <td>Big Eden</td>\n",
       "      <td>4</td>\n",
       "      <td>1</td>\n",
       "      <td>1</td>\n",
       "      <td>N</td>\n",
       "      <td>Y</td>\n",
       "      <td>big eden</td>\n",
       "      <td>I liked this video and it appears that everyon...</td>\n",
       "      <td>2012-06-29</td>\n",
       "      <td>2012</td>\n",
       "      <td>Digital_Video_Download</td>\n",
       "    </tr>\n",
       "    <tr>\n",
       "      <th>1</th>\n",
       "      <td>US</td>\n",
       "      <td>51900780</td>\n",
       "      <td>R264BJL39GBDF8</td>\n",
       "      <td>B00FJTYDKK</td>\n",
       "      <td>255137298</td>\n",
       "      <td>The Croods</td>\n",
       "      <td>3</td>\n",
       "      <td>0</td>\n",
       "      <td>2</td>\n",
       "      <td>N</td>\n",
       "      <td>Y</td>\n",
       "      <td>3-stars only because of Nicolas Cage</td>\n",
       "      <td>Cast is awesome, but seriously...I can't stand...</td>\n",
       "      <td>2014-04-09</td>\n",
       "      <td>2014</td>\n",
       "      <td>Digital_Video_Download</td>\n",
       "    </tr>\n",
       "    <tr>\n",
       "      <th>2</th>\n",
       "      <td>US</td>\n",
       "      <td>50549774</td>\n",
       "      <td>RZ43SQJAS1IV6</td>\n",
       "      <td>B006MW3V6U</td>\n",
       "      <td>682981764</td>\n",
       "      <td>Downton Abbey Season 2</td>\n",
       "      <td>5</td>\n",
       "      <td>0</td>\n",
       "      <td>0</td>\n",
       "      <td>N</td>\n",
       "      <td>Y</td>\n",
       "      <td>Season 2 Downton Abby</td>\n",
       "      <td>The purchase and viewing process for the Fire ...</td>\n",
       "      <td>2012-06-29</td>\n",
       "      <td>2012</td>\n",
       "      <td>Digital_Video_Download</td>\n",
       "    </tr>\n",
       "    <tr>\n",
       "      <th>3</th>\n",
       "      <td>US</td>\n",
       "      <td>13886817</td>\n",
       "      <td>R2WP035BBNAQBZ</td>\n",
       "      <td>B00I3MNJZ0</td>\n",
       "      <td>47146773</td>\n",
       "      <td>The After</td>\n",
       "      <td>1</td>\n",
       "      <td>1</td>\n",
       "      <td>2</td>\n",
       "      <td>N</td>\n",
       "      <td>N</td>\n",
       "      <td>Way too long and obvious</td>\n",
       "      <td>So this is after the RAPTURE? After some EVENT...</td>\n",
       "      <td>2014-04-09</td>\n",
       "      <td>2014</td>\n",
       "      <td>Digital_Video_Download</td>\n",
       "    </tr>\n",
       "    <tr>\n",
       "      <th>4</th>\n",
       "      <td>US</td>\n",
       "      <td>51177115</td>\n",
       "      <td>R2HRSJ5OWRLKKF</td>\n",
       "      <td>B006LZSF8M</td>\n",
       "      <td>175214460</td>\n",
       "      <td>Vegucated</td>\n",
       "      <td>5</td>\n",
       "      <td>2</td>\n",
       "      <td>3</td>\n",
       "      <td>N</td>\n",
       "      <td>Y</td>\n",
       "      <td>A disturbing but \"gentle\" view on why be a veg...</td>\n",
       "      <td>I really enjoyed this film. I was a pesco-ovo-...</td>\n",
       "      <td>2012-06-29</td>\n",
       "      <td>2012</td>\n",
       "      <td>Digital_Video_Download</td>\n",
       "    </tr>\n",
       "  </tbody>\n",
       "</table>\n",
       "</div>"
      ],
      "text/plain": [
       "  marketplace customer_id       review_id  product_id product_parent  \\\n",
       "0          US    42778291   R36DE7C83302X  B0034GY4L8      652273641   \n",
       "1          US    51900780  R264BJL39GBDF8  B00FJTYDKK      255137298   \n",
       "2          US    50549774   RZ43SQJAS1IV6  B006MW3V6U      682981764   \n",
       "3          US    13886817  R2WP035BBNAQBZ  B00I3MNJZ0       47146773   \n",
       "4          US    51177115  R2HRSJ5OWRLKKF  B006LZSF8M      175214460   \n",
       "\n",
       "            product_title  star_rating  helpful_votes  total_votes vine  \\\n",
       "0                Big Eden            4              1            1    N   \n",
       "1              The Croods            3              0            2    N   \n",
       "2  Downton Abbey Season 2            5              0            0    N   \n",
       "3               The After            1              1            2    N   \n",
       "4               Vegucated            5              2            3    N   \n",
       "\n",
       "  verified_purchase                                    review_headline  \\\n",
       "0                 Y                                           big eden   \n",
       "1                 Y               3-stars only because of Nicolas Cage   \n",
       "2                 Y                              Season 2 Downton Abby   \n",
       "3                 N                           Way too long and obvious   \n",
       "4                 Y  A disturbing but \"gentle\" view on why be a veg...   \n",
       "\n",
       "                                         review_body review_date  year  \\\n",
       "0  I liked this video and it appears that everyon...  2012-06-29  2012   \n",
       "1  Cast is awesome, but seriously...I can't stand...  2014-04-09  2014   \n",
       "2  The purchase and viewing process for the Fire ...  2012-06-29  2012   \n",
       "3  So this is after the RAPTURE? After some EVENT...  2014-04-09  2014   \n",
       "4  I really enjoyed this film. I was a pesco-ovo-...  2012-06-29  2012   \n",
       "\n",
       "         product_category  \n",
       "0  Digital_Video_Download  \n",
       "1  Digital_Video_Download  \n",
       "2  Digital_Video_Download  \n",
       "3  Digital_Video_Download  \n",
       "4  Digital_Video_Download  "
      ]
     },
     "execution_count": 2,
     "metadata": {},
     "output_type": "execute_result"
    }
   ],
   "source": [
    "# Can read parquet, can read CSV/excel\n",
    "movie_reviews = pd.read_parquet('../data/review_data')\n",
    "\n",
    "# data frame - basically a table consisting of rows, columns and an index\n",
    "movie_reviews.shape\n",
    "movie_reviews.head()\n"
   ]
  },
  {
   "cell_type": "markdown",
   "id": "5da7451b",
   "metadata": {},
   "source": [
    "## Looking at specific data"
   ]
  },
  {
   "cell_type": "code",
   "execution_count": 3,
   "id": "f5c7de75",
   "metadata": {
    "collapsed": false,
    "jupyter": {
     "outputs_hidden": false
    },
    "pycharm": {
     "name": "#%%\n"
    }
   },
   "outputs": [
    {
     "data": {
      "text/plain": [
       "'Downton Abbey Season 2'"
      ]
     },
     "execution_count": 3,
     "metadata": {},
     "output_type": "execute_result"
    }
   ],
   "source": [
    "# Only look at product titles\n",
    "movie_reviews[\"product_title\"]\n",
    "\n",
    "# How select specific data using the index\n",
    "movie_reviews.loc[2]\n",
    "\n",
    "# .loc is like coordinates - takes the index and column (product_title)\n",
    "movie_reviews.loc[2, \"product_title\"]"
   ]
  },
  {
   "cell_type": "code",
   "execution_count": 4,
   "id": "740ba9c7",
   "metadata": {
    "collapsed": false,
    "jupyter": {
     "outputs_hidden": false
    },
    "pycharm": {
     "name": "#%%\n"
    }
   },
   "outputs": [
    {
     "data": {
      "text/plain": [
       "'The Smurfs'"
      ]
     },
     "execution_count": 4,
     "metadata": {},
     "output_type": "execute_result"
    }
   ],
   "source": [
    "# Changing that entry\n",
    "\n",
    "movie_reviews.loc[2, \"product_title\"] = \"The Smurfs\"\n",
    "movie_reviews.loc[2, \"product_title\"]"
   ]
  },
  {
   "cell_type": "code",
   "execution_count": 5,
   "id": "fe72b4ab",
   "metadata": {
    "collapsed": false,
    "jupyter": {
     "outputs_hidden": false
    },
    "pycharm": {
     "name": "#%%\n"
    }
   },
   "outputs": [
    {
     "data": {
      "text/html": [
       "<div>\n",
       "<style scoped>\n",
       "    .dataframe tbody tr th:only-of-type {\n",
       "        vertical-align: middle;\n",
       "    }\n",
       "\n",
       "    .dataframe tbody tr th {\n",
       "        vertical-align: top;\n",
       "    }\n",
       "\n",
       "    .dataframe thead th {\n",
       "        text-align: right;\n",
       "    }\n",
       "</style>\n",
       "<table border=\"1\" class=\"dataframe\">\n",
       "  <thead>\n",
       "    <tr style=\"text-align: right;\">\n",
       "      <th></th>\n",
       "      <th>product_title</th>\n",
       "      <th>star_rating</th>\n",
       "    </tr>\n",
       "  </thead>\n",
       "  <tbody>\n",
       "    <tr>\n",
       "      <th>0</th>\n",
       "      <td>Big Eden</td>\n",
       "      <td>4</td>\n",
       "    </tr>\n",
       "    <tr>\n",
       "      <th>1</th>\n",
       "      <td>The Croods</td>\n",
       "      <td>3</td>\n",
       "    </tr>\n",
       "    <tr>\n",
       "      <th>2</th>\n",
       "      <td>The Smurfs</td>\n",
       "      <td>5</td>\n",
       "    </tr>\n",
       "    <tr>\n",
       "      <th>3</th>\n",
       "      <td>The After</td>\n",
       "      <td>1</td>\n",
       "    </tr>\n",
       "    <tr>\n",
       "      <th>4</th>\n",
       "      <td>Vegucated</td>\n",
       "      <td>5</td>\n",
       "    </tr>\n",
       "    <tr>\n",
       "      <th>...</th>\n",
       "      <td>...</td>\n",
       "      <td>...</td>\n",
       "    </tr>\n",
       "    <tr>\n",
       "      <th>5173738</th>\n",
       "      <td>Captain Phillips</td>\n",
       "      <td>5</td>\n",
       "    </tr>\n",
       "    <tr>\n",
       "      <th>5173739</th>\n",
       "      <td>Gravity</td>\n",
       "      <td>5</td>\n",
       "    </tr>\n",
       "    <tr>\n",
       "      <th>5173740</th>\n",
       "      <td>Rise Of The Planet Of The Apes</td>\n",
       "      <td>1</td>\n",
       "    </tr>\n",
       "    <tr>\n",
       "      <th>5173741</th>\n",
       "      <td>The Pandorica Opens</td>\n",
       "      <td>1</td>\n",
       "    </tr>\n",
       "    <tr>\n",
       "      <th>5173742</th>\n",
       "      <td>Godzilla (2014)</td>\n",
       "      <td>4</td>\n",
       "    </tr>\n",
       "  </tbody>\n",
       "</table>\n",
       "<p>5173743 rows × 2 columns</p>\n",
       "</div>"
      ],
      "text/plain": [
       "                          product_title  star_rating\n",
       "0                              Big Eden            4\n",
       "1                            The Croods            3\n",
       "2                            The Smurfs            5\n",
       "3                             The After            1\n",
       "4                             Vegucated            5\n",
       "...                                 ...          ...\n",
       "5173738                Captain Phillips            5\n",
       "5173739                         Gravity            5\n",
       "5173740  Rise Of The Planet Of The Apes            1\n",
       "5173741             The Pandorica Opens            1\n",
       "5173742                 Godzilla (2014)            4\n",
       "\n",
       "[5173743 rows x 2 columns]"
      ]
     },
     "execution_count": 5,
     "metadata": {},
     "output_type": "execute_result"
    }
   ],
   "source": [
    "# Look at some reviews\n",
    "movie_reviews[[\"product_title\", \"star_rating\"]]"
   ]
  },
  {
   "cell_type": "code",
   "execution_count": 6,
   "id": "fa56fe6d",
   "metadata": {
    "collapsed": false,
    "jupyter": {
     "outputs_hidden": false
    },
    "pycharm": {
     "name": "#%%\n"
    }
   },
   "outputs": [
    {
     "data": {
      "text/plain": [
       "product_title\n",
       "Pilot                                         60086\n",
       "Bosch Season 1                                53164\n",
       "Downton Abbey Season 3                        47566\n",
       "Downton Abbey Season 2                        28383\n",
       "Orphan Black Season 1                         26374\n",
       "                                              ...  \n",
       "Mad Max: Fury Road (Trailer 1)                    1\n",
       "Mad Max: Fury Road - Clip: Attacked               1\n",
       "Mad Max: Fury Road - Clip: Furiosa                1\n",
       "Mad Max: Fury Road - Clip: He Looked At Me        1\n",
       "［リミット］ (字幕版)                                      1\n",
       "Length: 93536, dtype: int64"
      ]
     },
     "execution_count": 6,
     "metadata": {},
     "output_type": "execute_result"
    }
   ],
   "source": [
    "# Which TV show or movie has the most reviews\n",
    "movie_reviews.value_counts(\"product_title\")"
   ]
  },
  {
   "cell_type": "code",
   "execution_count": 7,
   "id": "cc5d7276-4932-4048-b401-fdc89480696e",
   "metadata": {},
   "outputs": [
    {
     "data": {
      "text/plain": [
       "product_title\n",
       "Pilot                                         60086\n",
       "Bosch Series 1                                53164\n",
       "Downton Abbey Series 3                        47566\n",
       "Downton Abbey Series 2                        28383\n",
       "Orphan Black Series 1                         26374\n",
       "                                              ...  \n",
       "Mad Max: Fury Road (Trailer 1)                    1\n",
       "Mad Max: Fury Road - Clip: Attacked               1\n",
       "Mad Max: Fury Road - Clip: Furiosa                1\n",
       "Mad Max: Fury Road - Clip: He Looked At Me        1\n",
       "［リミット］ (字幕版)                                      1\n",
       "Length: 93532, dtype: int64"
      ]
     },
     "execution_count": 7,
     "metadata": {},
     "output_type": "execute_result"
    }
   ],
   "source": [
    "# Changing Season -> Series\n",
    "movie_reviews[\"product_title\"] = movie_reviews[\"product_title\"].str.replace(\"Season\", \"Series\")\n",
    "movie_reviews.value_counts(\"product_title\")"
   ]
  },
  {
   "cell_type": "code",
   "execution_count": 8,
   "id": "b922db08",
   "metadata": {
    "collapsed": false,
    "jupyter": {
     "outputs_hidden": false
    },
    "pycharm": {
     "name": "#%%\n"
    }
   },
   "outputs": [
    {
     "data": {
      "text/plain": [
       "product_title\n",
       "Bosch Series 1                                53164\n",
       "Downton Abbey Series 3                        47566\n",
       "Downton Abbey Series 2                        28383\n",
       "Orphan Black Series 1                         26374\n",
       "Downton Abbey Series 4                        26000\n",
       "                                              ...  \n",
       "Mad Max: Fury Road (Trailer 1)                    1\n",
       "Mad Max: Fury Road - Clip: Attacked               1\n",
       "Mad Max: Fury Road - Clip: Furiosa                1\n",
       "Mad Max: Fury Road - Clip: He Looked At Me        1\n",
       "［リミット］ (字幕版)                                      1\n",
       "Length: 93531, dtype: int64"
      ]
     },
     "execution_count": 8,
     "metadata": {},
     "output_type": "execute_result"
    }
   ],
   "source": [
    "# Filtering out 'Pilot'\n",
    "is_not_pilot_review_bool = movie_reviews[\"product_title\"] != \"Pilot\"\n",
    "movie_reviews = movie_reviews[is_not_pilot_review_bool]\n",
    "movie_reviews.value_counts(\"product_title\")"
   ]
  },
  {
   "cell_type": "code",
   "execution_count": 9,
   "id": "77840805-50bb-49c6-8af1-dd4abc2434e6",
   "metadata": {},
   "outputs": [
    {
     "data": {
      "text/plain": [
       "product_title\n",
       "Bosch Season 1                                53164\n",
       "Downton Abbey Season 3                        47566\n",
       "Downton Abbey Season 2                        28383\n",
       "Orphan Black Season 1                         26374\n",
       "Downton Abbey Season 4                        26000\n",
       "                                              ...  \n",
       "Mad Max: Fury Road (Trailer 1)                    1\n",
       "Mad Max: Fury Road - Clip: Attacked               1\n",
       "Mad Max: Fury Road - Clip: Furiosa                1\n",
       "Mad Max: Fury Road - Clip: He Looked At Me        1\n",
       "［リミット］ (字幕版)                                      1\n",
       "Length: 93531, dtype: int64"
      ]
     },
     "execution_count": 9,
     "metadata": {},
     "output_type": "execute_result"
    }
   ],
   "source": [
    "movie_reviews[\"product_title\"] = movie_reviews[\"product_title\"].str.replace(\"Series\", \"Season\")\n",
    "movie_reviews.value_counts(\"product_title\")"
   ]
  },
  {
   "cell_type": "code",
   "execution_count": 10,
   "id": "f1d8635b",
   "metadata": {
    "collapsed": false,
    "jupyter": {
     "outputs_hidden": false
    },
    "pycharm": {
     "name": "#%%\n"
    }
   },
   "outputs": [
    {
     "data": {
      "text/html": [
       "<div>\n",
       "<style scoped>\n",
       "    .dataframe tbody tr th:only-of-type {\n",
       "        vertical-align: middle;\n",
       "    }\n",
       "\n",
       "    .dataframe tbody tr th {\n",
       "        vertical-align: top;\n",
       "    }\n",
       "\n",
       "    .dataframe thead tr th {\n",
       "        text-align: left;\n",
       "    }\n",
       "\n",
       "    .dataframe thead tr:last-of-type th {\n",
       "        text-align: right;\n",
       "    }\n",
       "</style>\n",
       "<table border=\"1\" class=\"dataframe\">\n",
       "  <thead>\n",
       "    <tr>\n",
       "      <th></th>\n",
       "      <th colspan=\"2\" halign=\"left\">star_rating</th>\n",
       "    </tr>\n",
       "    <tr>\n",
       "      <th></th>\n",
       "      <th>mean</th>\n",
       "      <th>count</th>\n",
       "    </tr>\n",
       "    <tr>\n",
       "      <th>product_title</th>\n",
       "      <th></th>\n",
       "      <th></th>\n",
       "    </tr>\n",
       "  </thead>\n",
       "  <tbody>\n",
       "    <tr>\n",
       "      <th>Bosch Season 1</th>\n",
       "      <td>4.606124</td>\n",
       "      <td>53164</td>\n",
       "    </tr>\n",
       "    <tr>\n",
       "      <th>Downton Abbey Season 3</th>\n",
       "      <td>4.873775</td>\n",
       "      <td>47566</td>\n",
       "    </tr>\n",
       "    <tr>\n",
       "      <th>Downton Abbey Season 2</th>\n",
       "      <td>4.892259</td>\n",
       "      <td>28383</td>\n",
       "    </tr>\n",
       "    <tr>\n",
       "      <th>Orphan Black Season 1</th>\n",
       "      <td>4.682794</td>\n",
       "      <td>26374</td>\n",
       "    </tr>\n",
       "    <tr>\n",
       "      <th>Downton Abbey Season 4</th>\n",
       "      <td>4.836692</td>\n",
       "      <td>26000</td>\n",
       "    </tr>\n",
       "    <tr>\n",
       "      <th>...</th>\n",
       "      <td>...</td>\n",
       "      <td>...</td>\n",
       "    </tr>\n",
       "    <tr>\n",
       "      <th>Mad Max: Fury Road (Trailer 1)</th>\n",
       "      <td>5.000000</td>\n",
       "      <td>1</td>\n",
       "    </tr>\n",
       "    <tr>\n",
       "      <th>Mad Max: Fury Road - Clip: Attacked</th>\n",
       "      <td>5.000000</td>\n",
       "      <td>1</td>\n",
       "    </tr>\n",
       "    <tr>\n",
       "      <th>Mad Max: Fury Road - Clip: Furiosa</th>\n",
       "      <td>5.000000</td>\n",
       "      <td>1</td>\n",
       "    </tr>\n",
       "    <tr>\n",
       "      <th>Mad Max: Fury Road - Clip: He Looked At Me</th>\n",
       "      <td>5.000000</td>\n",
       "      <td>1</td>\n",
       "    </tr>\n",
       "    <tr>\n",
       "      <th>［リミット］ (字幕版)</th>\n",
       "      <td>1.000000</td>\n",
       "      <td>1</td>\n",
       "    </tr>\n",
       "  </tbody>\n",
       "</table>\n",
       "<p>93531 rows × 2 columns</p>\n",
       "</div>"
      ],
      "text/plain": [
       "                                           star_rating       \n",
       "                                                  mean  count\n",
       "product_title                                                \n",
       "Bosch Season 1                                4.606124  53164\n",
       "Downton Abbey Season 3                        4.873775  47566\n",
       "Downton Abbey Season 2                        4.892259  28383\n",
       "Orphan Black Season 1                         4.682794  26374\n",
       "Downton Abbey Season 4                        4.836692  26000\n",
       "...                                                ...    ...\n",
       "Mad Max: Fury Road (Trailer 1)                5.000000      1\n",
       "Mad Max: Fury Road - Clip: Attacked           5.000000      1\n",
       "Mad Max: Fury Road - Clip: Furiosa            5.000000      1\n",
       "Mad Max: Fury Road - Clip: He Looked At Me    5.000000      1\n",
       "［リミット］ (字幕版)                                  1.000000      1\n",
       "\n",
       "[93531 rows x 2 columns]"
      ]
     },
     "execution_count": 10,
     "metadata": {},
     "output_type": "execute_result"
    }
   ],
   "source": [
    "# all reviews\n",
    "movie_reviews.groupby(\"product_title\").mean()\n",
    "# movie_reviews.groupby(\"product_title\").agg(\"mean\")\n",
    "# movie_reviews.groupby(\"product_title\").agg({\"star_rating\": \"mean\"})\n",
    "movie_reviews.groupby(\"product_title\").agg({\"star_rating\": \"mean\"}).sort_values(by=\"star_rating\", ascending=False)\n",
    "movie_reviews.groupby(\"product_title\").agg({\"star_rating\": [\"mean\", \"count\"]}).sort_values(by=(\"star_rating\", \"count\"), ascending=False)"
   ]
  },
  {
   "cell_type": "code",
   "execution_count": 11,
   "id": "3f9c69bd-c513-4bdf-9e86-ada9e8b8a21e",
   "metadata": {},
   "outputs": [
    {
     "data": {
      "text/html": [
       "<div>\n",
       "<style scoped>\n",
       "    .dataframe tbody tr th:only-of-type {\n",
       "        vertical-align: middle;\n",
       "    }\n",
       "\n",
       "    .dataframe tbody tr th {\n",
       "        vertical-align: top;\n",
       "    }\n",
       "\n",
       "    .dataframe thead tr th {\n",
       "        text-align: left;\n",
       "    }\n",
       "\n",
       "    .dataframe thead tr:last-of-type th {\n",
       "        text-align: right;\n",
       "    }\n",
       "</style>\n",
       "<table border=\"1\" class=\"dataframe\">\n",
       "  <thead>\n",
       "    <tr>\n",
       "      <th></th>\n",
       "      <th colspan=\"2\" halign=\"left\">star_rating</th>\n",
       "    </tr>\n",
       "    <tr>\n",
       "      <th></th>\n",
       "      <th>mean</th>\n",
       "      <th>count</th>\n",
       "    </tr>\n",
       "    <tr>\n",
       "      <th>product_title</th>\n",
       "      <th></th>\n",
       "      <th></th>\n",
       "    </tr>\n",
       "  </thead>\n",
       "  <tbody>\n",
       "    <tr>\n",
       "      <th>Bosch Season 1</th>\n",
       "      <td>4.606124</td>\n",
       "      <td>53164</td>\n",
       "    </tr>\n",
       "    <tr>\n",
       "      <th>Downton Abbey Season 3</th>\n",
       "      <td>4.873775</td>\n",
       "      <td>47566</td>\n",
       "    </tr>\n",
       "    <tr>\n",
       "      <th>Downton Abbey Season 2</th>\n",
       "      <td>4.892259</td>\n",
       "      <td>28383</td>\n",
       "    </tr>\n",
       "    <tr>\n",
       "      <th>Orphan Black Season 1</th>\n",
       "      <td>4.682794</td>\n",
       "      <td>26374</td>\n",
       "    </tr>\n",
       "    <tr>\n",
       "      <th>Downton Abbey Season 4</th>\n",
       "      <td>4.836692</td>\n",
       "      <td>26000</td>\n",
       "    </tr>\n",
       "    <tr>\n",
       "      <th>...</th>\n",
       "      <td>...</td>\n",
       "      <td>...</td>\n",
       "    </tr>\n",
       "    <tr>\n",
       "      <th>Mad Max: Fury Road (Trailer 1)</th>\n",
       "      <td>5.000000</td>\n",
       "      <td>1</td>\n",
       "    </tr>\n",
       "    <tr>\n",
       "      <th>Mad Max: Fury Road - Clip: Attacked</th>\n",
       "      <td>5.000000</td>\n",
       "      <td>1</td>\n",
       "    </tr>\n",
       "    <tr>\n",
       "      <th>Mad Max: Fury Road - Clip: Furiosa</th>\n",
       "      <td>5.000000</td>\n",
       "      <td>1</td>\n",
       "    </tr>\n",
       "    <tr>\n",
       "      <th>Mad Max: Fury Road - Clip: He Looked At Me</th>\n",
       "      <td>5.000000</td>\n",
       "      <td>1</td>\n",
       "    </tr>\n",
       "    <tr>\n",
       "      <th>［リミット］ (字幕版)</th>\n",
       "      <td>1.000000</td>\n",
       "      <td>1</td>\n",
       "    </tr>\n",
       "  </tbody>\n",
       "</table>\n",
       "<p>93531 rows × 2 columns</p>\n",
       "</div>"
      ],
      "text/plain": [
       "                                           star_rating       \n",
       "                                                  mean  count\n",
       "product_title                                                \n",
       "Bosch Season 1                                4.606124  53164\n",
       "Downton Abbey Season 3                        4.873775  47566\n",
       "Downton Abbey Season 2                        4.892259  28383\n",
       "Orphan Black Season 1                         4.682794  26374\n",
       "Downton Abbey Season 4                        4.836692  26000\n",
       "...                                                ...    ...\n",
       "Mad Max: Fury Road (Trailer 1)                5.000000      1\n",
       "Mad Max: Fury Road - Clip: Attacked           5.000000      1\n",
       "Mad Max: Fury Road - Clip: Furiosa            5.000000      1\n",
       "Mad Max: Fury Road - Clip: He Looked At Me    5.000000      1\n",
       "［リミット］ (字幕版)                                  1.000000      1\n",
       "\n",
       "[93531 rows x 2 columns]"
      ]
     },
     "execution_count": 11,
     "metadata": {},
     "output_type": "execute_result"
    }
   ],
   "source": [
    "# Most well rated TV show or movie\n",
    "# movie_reviews.groupby(\"product_title\").mean()\n",
    "# movie_reviews.groupby(\"product_title\").agg({\"star_rating\": \"mean\"})\n",
    "# movie_reviews.groupby(\"product_title\").agg({\"star_rating\": \"mean\"}).sort_values(by=\"star_rating\", ascending=False)\n",
    "movie_reviews.groupby(\"product_title\").agg({\"star_rating\": [\"mean\", \"count\"]}).sort_values(by=(\"star_rating\", \"count\"), ascending=False)"
   ]
  },
  {
   "cell_type": "code",
   "execution_count": 12,
   "id": "e5cde1a0",
   "metadata": {
    "collapsed": false,
    "jupyter": {
     "outputs_hidden": false
    },
    "pycharm": {
     "name": "#%%\n"
    }
   },
   "outputs": [
    {
     "data": {
      "text/plain": [
       "count        5.000000\n",
       "mean     10632.800000\n",
       "std      15847.437433\n",
       "min        562.000000\n",
       "25%        768.000000\n",
       "50%       2298.000000\n",
       "75%      11792.000000\n",
       "max      37744.000000\n",
       "Name: star_rating, dtype: float64"
      ]
     },
     "execution_count": 12,
     "metadata": {},
     "output_type": "execute_result"
    }
   ],
   "source": [
    "# Looking more closely at Bosch Season 1 ratings\n",
    "\n",
    "is_bosch_review_bool = movie_reviews[\"product_title\"] == \"Bosch Season 1\"\n",
    "movie_reviews.loc[is_bosch_review_bool, \"star_rating\"].value_counts().describe()"
   ]
  },
  {
   "cell_type": "code",
   "execution_count": 13,
   "id": "284b9973-a63e-4043-b3a0-607024f6db96",
   "metadata": {},
   "outputs": [
    {
     "data": {
      "text/plain": [
       "<AxesSubplot:ylabel='star_rating'>"
      ]
     },
     "execution_count": 13,
     "metadata": {},
     "output_type": "execute_result"
    },
    {
     "data": {
      "image/png": "[encoded data removed]",
      "text/plain": [
       "<Figure size 432x288 with 1 Axes>"
      ]
     },
     "metadata": {},
     "output_type": "display_data"
    }
   ],
   "source": [
    "movie_reviews.loc[is_bosch_review_bool, \"star_rating\"].describe().value_counts().plot.pie()"
   ]
  },
  {
   "cell_type": "code",
   "execution_count": 14,
   "id": "47f25b37",
   "metadata": {
    "collapsed": false,
    "jupyter": {
     "outputs_hidden": false
    },
    "pycharm": {
     "name": "#%%\n"
    }
   },
   "outputs": [
    {
     "data": {
      "text/html": [
       "<div>\n",
       "<style scoped>\n",
       "    .dataframe tbody tr th:only-of-type {\n",
       "        vertical-align: middle;\n",
       "    }\n",
       "\n",
       "    .dataframe tbody tr th {\n",
       "        vertical-align: top;\n",
       "    }\n",
       "\n",
       "    .dataframe thead th {\n",
       "        text-align: right;\n",
       "    }\n",
       "</style>\n",
       "<table border=\"1\" class=\"dataframe\">\n",
       "  <thead>\n",
       "    <tr style=\"text-align: right;\">\n",
       "      <th></th>\n",
       "      <th>star_rating</th>\n",
       "    </tr>\n",
       "    <tr>\n",
       "      <th>year</th>\n",
       "      <th></th>\n",
       "    </tr>\n",
       "  </thead>\n",
       "  <tbody>\n",
       "    <tr>\n",
       "      <th>2000</th>\n",
       "      <td>2.000000</td>\n",
       "    </tr>\n",
       "    <tr>\n",
       "      <th>2001</th>\n",
       "      <td>3.000000</td>\n",
       "    </tr>\n",
       "    <tr>\n",
       "      <th>2002</th>\n",
       "      <td>4.166667</td>\n",
       "    </tr>\n",
       "    <tr>\n",
       "      <th>2003</th>\n",
       "      <td>3.500000</td>\n",
       "    </tr>\n",
       "    <tr>\n",
       "      <th>2004</th>\n",
       "      <td>4.857143</td>\n",
       "    </tr>\n",
       "    <tr>\n",
       "      <th>2005</th>\n",
       "      <td>3.733333</td>\n",
       "    </tr>\n",
       "    <tr>\n",
       "      <th>2006</th>\n",
       "      <td>3.631579</td>\n",
       "    </tr>\n",
       "    <tr>\n",
       "      <th>2007</th>\n",
       "      <td>3.594483</td>\n",
       "    </tr>\n",
       "    <tr>\n",
       "      <th>2008</th>\n",
       "      <td>3.759020</td>\n",
       "    </tr>\n",
       "    <tr>\n",
       "      <th>2009</th>\n",
       "      <td>3.677989</td>\n",
       "    </tr>\n",
       "    <tr>\n",
       "      <th>2010</th>\n",
       "      <td>3.754393</td>\n",
       "    </tr>\n",
       "    <tr>\n",
       "      <th>2011</th>\n",
       "      <td>3.761809</td>\n",
       "    </tr>\n",
       "    <tr>\n",
       "      <th>2012</th>\n",
       "      <td>4.029748</td>\n",
       "    </tr>\n",
       "    <tr>\n",
       "      <th>2013</th>\n",
       "      <td>4.216957</td>\n",
       "    </tr>\n",
       "    <tr>\n",
       "      <th>2014</th>\n",
       "      <td>4.228552</td>\n",
       "    </tr>\n",
       "    <tr>\n",
       "      <th>2015</th>\n",
       "      <td>4.209017</td>\n",
       "    </tr>\n",
       "  </tbody>\n",
       "</table>\n",
       "</div>"
      ],
      "text/plain": [
       "      star_rating\n",
       "year             \n",
       "2000     2.000000\n",
       "2001     3.000000\n",
       "2002     4.166667\n",
       "2003     3.500000\n",
       "2004     4.857143\n",
       "2005     3.733333\n",
       "2006     3.631579\n",
       "2007     3.594483\n",
       "2008     3.759020\n",
       "2009     3.677989\n",
       "2010     3.754393\n",
       "2011     3.761809\n",
       "2012     4.029748\n",
       "2013     4.216957\n",
       "2014     4.228552\n",
       "2015     4.209017"
      ]
     },
     "execution_count": 14,
     "metadata": {},
     "output_type": "execute_result"
    }
   ],
   "source": [
    "# Calculate the average star rating, helpful votes and total votes each year\n",
    "movie_reviews.groupby(\"year\").agg({\"star_rating\": \"mean\"})"
   ]
  },
  {
   "cell_type": "code",
   "execution_count": 15,
   "id": "590f81a4-e874-47f3-9a5f-a5260546f81f",
   "metadata": {},
   "outputs": [
    {
     "data": {
      "text/plain": [
       "<AxesSubplot:xlabel='year'>"
      ]
     },
     "execution_count": 15,
     "metadata": {},
     "output_type": "execute_result"
    },
    {
     "data": {
      "image/png": "[encoded data removed]",
      "text/plain": [
       "<Figure size 432x288 with 1 Axes>"
      ]
     },
     "metadata": {
      "needs_background": "light"
     },
     "output_type": "display_data"
    }
   ],
   "source": [
    "movie_reviews.groupby(\"year\").agg({\"star_rating\": \"mean\"}).plot()"
   ]
  },
  {
   "cell_type": "code",
   "execution_count": 16,
   "id": "7783aaf2",
   "metadata": {
    "collapsed": false,
    "jupyter": {
     "outputs_hidden": false
    },
    "pycharm": {
     "name": "#%%\n"
    }
   },
   "outputs": [
    {
     "data": {
      "text/plain": [
       "2000          1\n",
       "2001          1\n",
       "2002          6\n",
       "2003          4\n",
       "2004          7\n",
       "2005         15\n",
       "2006        228\n",
       "2007       2900\n",
       "2008       3631\n",
       "2009       3680\n",
       "2010       7569\n",
       "2011      26928\n",
       "2012     199378\n",
       "2013     948409\n",
       "2014    1983444\n",
       "2015    1937456\n",
       "Name: year, dtype: int64"
      ]
     },
     "execution_count": 16,
     "metadata": {},
     "output_type": "execute_result"
    }
   ],
   "source": [
    "# Looking at the total number of reviews across the years\n",
    "movie_reviews[\"year\"].value_counts().sort_index()"
   ]
  },
  {
   "cell_type": "code",
   "execution_count": 17,
   "id": "1f6843d0-9733-4520-b1fe-6e8e83755c82",
   "metadata": {},
   "outputs": [
    {
     "data": {
      "image/png": "[encoded data removed]",
      "text/plain": [
       "<Figure size 432x288 with 1 Axes>"
      ]
     },
     "metadata": {
      "needs_background": "light"
     },
     "output_type": "display_data"
    }
   ],
   "source": [
    "plot = movie_reviews[\"year\"].value_counts().sort_index().plot()"
   ]
  },
  {
   "cell_type": "code",
   "execution_count": 18,
   "id": "8e14cda9-a16e-4285-adb7-772a3ad8d253",
   "metadata": {},
   "outputs": [],
   "source": [
    "fig = plot.get_figure()\n",
    "fig.savefig(\"output.png\")"
   ]
  },
  {
   "cell_type": "code",
   "execution_count": null,
   "id": "5019a279-c74f-432b-8218-2bbb37986bdd",
   "metadata": {},
   "outputs": [],
   "source": []
  }
 ],
 "metadata": {
  "kernelspec": {
   "display_name": "Python 3",
   "language": "python",
   "name": "python3"
  },
  "language_info": {
   "codemirror_mode": {
    "name": "ipython",
    "version": 3
   },
   "file_extension": ".py",
   "mimetype": "text/x-python",
   "name": "python",
   "nbconvert_exporter": "python",
   "pygments_lexer": "ipython3",
   "version": "3.9.4"
  }
 },
 "nbformat": 4,
 "nbformat_minor": 5
}
